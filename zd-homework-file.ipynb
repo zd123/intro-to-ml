{
 "cells": [
  {
   "cell_type": "markdown",
   "id": "70c0e742",
   "metadata": {},
   "source": [
    "# This is my homework file. "
   ]
  },
  {
   "cell_type": "code",
   "execution_count": 1,
   "id": "ccc0e3ec",
   "metadata": {},
   "outputs": [],
   "source": [
    "# This is my homework file. "
   ]
  },
  {
   "cell_type": "code",
   "execution_count": null,
   "id": "1a645f5b",
   "metadata": {},
   "outputs": [],
   "source": []
  }
 ],
 "metadata": {
  "kernelspec": {
   "display_name": "Python 3",
   "language": "python",
   "name": "python3"
  },
  "language_info": {
   "codemirror_mode": {
    "name": "ipython",
    "version": 3
   },
   "file_extension": ".py",
   "mimetype": "text/x-python",
   "name": "python",
   "nbconvert_exporter": "python",
   "pygments_lexer": "ipython3",
   "version": "3.12.1"
  }
 },
 "nbformat": 4,
 "nbformat_minor": 5
}
